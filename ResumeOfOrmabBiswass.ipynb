{
  "nbformat": 4,
  "nbformat_minor": 0,
  "metadata": {
    "colab": {
      "provenance": []
    },
    "kernelspec": {
      "name": "python3",
      "display_name": "Python 3"
    },
    "language_info": {
      "name": "python"
    }
  },
  "cells": [
    {
      "cell_type": "code",
      "execution_count": 3,
      "metadata": {
        "colab": {
          "base_uri": "https://localhost:8080/",
          "height": 34
        },
        "collapsed": true,
        "id": "dneLbQf7cNl3",
        "outputId": "d6d46afe-0733-4314-9493-e6bc25694dff"
      },
      "outputs": [
        {
          "output_type": "stream",
          "name": "stdout",
          "text": [
            "Requirement already satisfied: fpdf in /usr/local/lib/python3.10/dist-packages (1.7.2)\n"
          ]
        },
        {
          "output_type": "display_data",
          "data": {
            "text/plain": [
              "<IPython.core.display.Javascript object>"
            ],
            "application/javascript": [
              "\n",
              "    async function download(id, filename, size) {\n",
              "      if (!google.colab.kernel.accessAllowed) {\n",
              "        return;\n",
              "      }\n",
              "      const div = document.createElement('div');\n",
              "      const label = document.createElement('label');\n",
              "      label.textContent = `Downloading \"${filename}\": `;\n",
              "      div.appendChild(label);\n",
              "      const progress = document.createElement('progress');\n",
              "      progress.max = size;\n",
              "      div.appendChild(progress);\n",
              "      document.body.appendChild(div);\n",
              "\n",
              "      const buffers = [];\n",
              "      let downloaded = 0;\n",
              "\n",
              "      const channel = await google.colab.kernel.comms.open(id);\n",
              "      // Send a message to notify the kernel that we're ready.\n",
              "      channel.send({})\n",
              "\n",
              "      for await (const message of channel.messages) {\n",
              "        // Send a message to notify the kernel that we're ready.\n",
              "        channel.send({})\n",
              "        if (message.buffers) {\n",
              "          for (const buffer of message.buffers) {\n",
              "            buffers.push(buffer);\n",
              "            downloaded += buffer.byteLength;\n",
              "            progress.value = downloaded;\n",
              "          }\n",
              "        }\n",
              "      }\n",
              "      const blob = new Blob(buffers, {type: 'application/binary'});\n",
              "      const a = document.createElement('a');\n",
              "      a.href = window.URL.createObjectURL(blob);\n",
              "      a.download = filename;\n",
              "      div.appendChild(a);\n",
              "      a.click();\n",
              "      div.remove();\n",
              "    }\n",
              "  "
            ]
          },
          "metadata": {}
        },
        {
          "output_type": "display_data",
          "data": {
            "text/plain": [
              "<IPython.core.display.Javascript object>"
            ],
            "application/javascript": [
              "download(\"download_3fa95f4c-17f2-4bcf-83ef-abb6df7dd9f9\", \"Ornab_Biswass_Resume_Filled.pdf\", 1980)"
            ]
          },
          "metadata": {}
        }
      ],
      "source": [
        "# Adjusting the font size and content layout to ensure no empty spaces, with tighter spacing and fuller page coverage\n",
        "!pip install fpdf\n",
        "from fpdf import FPDF"
      ]
    },
    {
      "cell_type": "code",
      "source": [
        "# Replacing any special characters that might cause encoding issues in the content\n",
        "summary = \"\"\"Motivated Junior Software Engineer with a solid foundation in Java and front-end technologies like Angular, Tailwind CSS, and JavaScript.\n",
        "Currently developing real-world web applications, including a Talent Acquisition System, and working on the SEU Admission Page front-end.\n",
        "Eager to grow and contribute to a collaborative, innovative team environment.\"\"\"\n",
        "\n"
      ],
      "metadata": {
        "id": "qjcRQj0VdbRJ"
      },
      "execution_count": null,
      "outputs": []
    },
    {
      "cell_type": "code",
      "source": [
        "experience = [\n",
        "    (\"IT Intern\", \"Southeast University, Department of IT\", \"06/2024 - Present\", [\n",
        "        \"Developing the Talent Acquisition System using Angular, Tailwind CSS, HTML, and Java.\",\n",
        "        \"Leading the SEU Admission Page front-end development using Tailwind CSS and JavaScript.\",\n",
        "        \"Collaborating with the IT team on full-stack development tasks.\",\n",
        "        \"Utilizing Git/GitHub for version control.\"\n",
        "    ]),\n",
        "    (\"Campus Ambassador (Volunteer Work)\", \"Kormo Jobs by Google\", \"05/2020 - 06/2022, Dhaka\", [\n",
        "        \"Promoted Kormo Jobs on campus and connected students with job opportunities.\",\n",
        "        \"Organized campus events and educated students on job search.\"\n",
        "    ]),\n",
        "    (\"Campus Ambassador (Volunteer Work)\", \"Shomvob Technologies Ltd.\", \"01/2023 - 04/2023\", [\n",
        "        \"Promoted Shomvob Android app on campus to help students access entry-level jobs.\"\n",
        "    ])\n",
        "]\n",
        "\n"
      ],
      "metadata": {
        "id": "a-t3WBxPdbXA"
      },
      "execution_count": null,
      "outputs": []
    },
    {
      "cell_type": "code",
      "source": [
        "projects = [\n",
        "    (\"Talent Acquisition System\", \"06/2024 - Present\", [\n",
        "        \"Developing a recruitment platform using Angular, Tailwind CSS, and Spring Boot.\",\n",
        "        \"Building dynamic interfaces, REST APIs, and integrating MongoDB for backend management.\"\n",
        "    ]),\n",
        "    (\"SEU Admission System Front-End\", \"07/2024 - Present\", [\n",
        "        \"Designed and developed the front-end for SEU's admission system using Tailwind CSS and JavaScript.\"\n",
        "    ]),\n",
        "    (\"Basic Calculator\", \"02/2023 - 05/2023\", [\n",
        "        \"Created a desktop calculator using JavaFX with MVC design principles.\"\n",
        "    ]),\n",
        "    (\"My Personal Bank\", \"12/2022 - 09/2022\", [\n",
        "        \"Developed a personal finance management app with Java, JavaFX, and MySQL for data storage.\"\n",
        "    ])\n",
        "]"
      ],
      "metadata": {
        "id": "G340VKvTdbak"
      },
      "execution_count": null,
      "outputs": []
    },
    {
      "cell_type": "code",
      "source": [
        "skills = [\n",
        "    \"Languages: Java (Primary), JavaScript, Python, C++ (Basic)\",\n",
        "    \"Web Development: Angular, Tailwind CSS, HTML, Spring Boot (beginner)\",\n",
        "    \"Databases: MongoDB (Primary), MySQL (Basic)\",\n",
        "    \"Tools & Version Control: Git/GitHub, MVC Design Pattern\",\n",
        "    \"Additional Skills: OOP, Problem Solving, Team Collaboration\"\n",
        "]"
      ],
      "metadata": {
        "id": "xosoYdV5dsH-"
      },
      "execution_count": null,
      "outputs": []
    },
    {
      "cell_type": "code",
      "source": [
        "certifications = [\n",
        "    \"Core Java (02/2021 - 08/2021): Demonstrated proficiency in core Java programming concepts.\",\n",
        "    \"21st Century Core Employability Skills Program (05/2021 - 08/2021): Strengthened communication, teamwork, problem-solving, and critical thinking skills.\"\n",
        "]"
      ],
      "metadata": {
        "id": "xeqd9QnSdsFB"
      },
      "execution_count": null,
      "outputs": []
    },
    {
      "cell_type": "code",
      "source": [
        "# Create instance of FPDF class again with safer text\n",
        "pdf = FPDF()"
      ],
      "metadata": {
        "id": "Qr5B-xxhdsBW"
      },
      "execution_count": null,
      "outputs": []
    },
    {
      "cell_type": "code",
      "source": [
        "# Add a page\n",
        "pdf.add_page()"
      ],
      "metadata": {
        "id": "bCFDp-4Hdr2w"
      },
      "execution_count": null,
      "outputs": []
    },
    {
      "cell_type": "code",
      "source": [
        "# Set title font and add title\n",
        "pdf.set_font('Arial', 'B', 16)\n",
        "pdf.cell(200, 10, txt=\"Ornab Biswass - Junior Software Engineer\", ln=True, align='C')"
      ],
      "metadata": {
        "id": "gOSNZwcZd21G"
      },
      "execution_count": null,
      "outputs": []
    },
    {
      "cell_type": "code",
      "source": [
        "# Add contact details\n",
        "pdf.set_font('Arial', '', 12)\n",
        "pdf.ln(10)\n",
        "pdf.cell(200, 10, txt=\"ornabbiswass@gmail.com | 01852128663 | Dhaka\", ln=True, align='C')\n",
        "pdf.cell(200, 10, txt=\"LinkedIn: linkedin.com/in/ornab-biswass | GitHub: github.com/Ornab95\", ln=True, align='C')"
      ],
      "metadata": {
        "id": "KD-BmYUXd8RZ"
      },
      "execution_count": null,
      "outputs": []
    },
    {
      "cell_type": "code",
      "source": [
        "# Add professional summary\n",
        "pdf.ln(10)\n",
        "pdf.set_font('Arial', 'B', 14)\n",
        "pdf.cell(200, 10, txt=\"PROFESSIONAL SUMMARY\", ln=True)\n",
        "\n",
        "pdf.set_font('Arial', '', 12)\n",
        "pdf.multi_cell(0, 10, summary)"
      ],
      "metadata": {
        "id": "wyw0Iml8d8Oh"
      },
      "execution_count": null,
      "outputs": []
    },
    {
      "cell_type": "code",
      "source": [
        "# Add education section\n",
        "pdf.ln(5)\n",
        "pdf.set_font('Arial', 'B', 14)\n",
        "pdf.cell(200, 10, txt=\"EDUCATION\", ln=True)\n",
        "\n",
        "pdf.set_font('Arial', '', 12)\n",
        "pdf.cell(200, 10, txt=\"Bachelor of Science in Computer Science and Engineering\", ln=True)\n",
        "pdf.cell(200, 10, txt=\"Southeast University, Dhaka | 02/2020 - Present | CGPA: 3.08\", ln=True)\n",
        "pdf.cell(200, 10, txt=\"Relevant Coursework: Data Structures, Algorithms, Software Engineering, Databases (MongoDB, MySQL), Web Development\", ln=True)\n",
        "\n",
        "pdf.cell(200, 10, txt=\"Higher Secondary Certificate (HSC)\", ln=True)\n",
        "pdf.cell(200, 10, txt=\"Scholastica Model College, Dhaka | 06/2017 - 05/2019 | GPA: 3.92\", ln=True)"
      ],
      "metadata": {
        "id": "AXbMDqred8Lf"
      },
      "execution_count": null,
      "outputs": []
    },
    {
      "cell_type": "code",
      "source": [
        "# Add work experience section\n",
        "pdf.ln(5)\n",
        "pdf.set_font('Arial', 'B', 14)\n",
        "pdf.cell(200, 10, txt=\"WORK EXPERIENCE\", ln=True)\n",
        "\n",
        "pdf.set_font('Arial', '', 12)\n",
        "for job in experience:\n",
        "    pdf.cell(200, 10, txt=f\"{job[0]} | {job[1]} | {job[2]}\", ln=True)\n",
        "    for task in job[3]:\n",
        "        pdf.multi_cell(0, 10, f\"- {task}\")\n",
        "\n"
      ],
      "metadata": {
        "id": "XvlsKpjGeFBW"
      },
      "execution_count": null,
      "outputs": []
    },
    {
      "cell_type": "code",
      "source": [
        "# Add projects section\n",
        "pdf.ln(5)\n",
        "pdf.set_font('Arial', 'B', 14)\n",
        "pdf.cell(200, 10, txt=\"PROJECTS\", ln=True)\n",
        "\n",
        "pdf.set_font('Arial', '', 12)\n",
        "for project in projects:\n",
        "    pdf.cell(200, 10, txt=f\"{project[0]} | {project[1]}\", ln=True)\n",
        "    for detail in project[2]:\n",
        "        pdf.multi_cell(0, 10, f\"- {detail}\")\n",
        "\n"
      ],
      "metadata": {
        "id": "tzJKi9s6eE91"
      },
      "execution_count": null,
      "outputs": []
    },
    {
      "cell_type": "code",
      "source": [
        "# Add skills section\n",
        "pdf.ln(5)\n",
        "pdf.set_font('Arial', 'B', 14)\n",
        "pdf.cell(200, 10, txt=\"SKILLS\", ln=True)\n",
        "\n",
        "pdf.set_font('Arial', '', 12)\n",
        "for skill in skills:\n",
        "    pdf.multi_cell(0, 10, f\"- {skill}\")"
      ],
      "metadata": {
        "id": "o1pAeHPUd8EX"
      },
      "execution_count": null,
      "outputs": []
    },
    {
      "cell_type": "code",
      "source": [
        "# Add certifications section\n",
        "pdf.ln(5)\n",
        "pdf.set_font('Arial', 'B', 14)\n",
        "pdf.cell(200, 10, txt=\"CERTIFICATIONS\", ln=True)\n",
        "\n",
        "pdf.set_font('Arial', '', 12)\n",
        "for cert in certifications:\n",
        "    pdf.multi_cell(0, 10, f\"- {cert}\")"
      ],
      "metadata": {
        "id": "gtv-X5qPeSvj"
      },
      "execution_count": null,
      "outputs": []
    },
    {
      "cell_type": "code",
      "source": [
        "# Output the updated PDF\n",
        "output_filled_page = \"/content/Ornab_Biswass_Resume_Filled.pdf\"\n",
        "\n",
        "pdf.output(output_filled_page)\n",
        "\n",
        "# Download the file\n",
        "from google.colab import files\n",
        "files.download(output_filled_page)"
      ],
      "metadata": {
        "id": "PR0NYepFdbfY"
      },
      "execution_count": null,
      "outputs": []
    }
  ]
}